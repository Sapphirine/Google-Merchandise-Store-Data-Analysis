{
 "cells": [
  {
   "cell_type": "markdown",
   "metadata": {},
   "source": [
    "## Part 2 : Feature Engineering\n",
    "### 1) Exploratory Data Analysis"
   ]
  },
  {
   "cell_type": "code",
   "execution_count": 1,
   "metadata": {},
   "outputs": [],
   "source": [
    "import pandas as pd\n",
    "from pandas import Series, DataFrame\n",
    "import numpy as np\n",
    "import matplotlib.pyplot as plt"
   ]
  },
  {
   "cell_type": "code",
   "execution_count": 2,
   "metadata": {},
   "outputs": [
    {
     "data": {
      "text/html": [
       "<div>\n",
       "<style scoped>\n",
       "    .dataframe tbody tr th:only-of-type {\n",
       "        vertical-align: middle;\n",
       "    }\n",
       "\n",
       "    .dataframe tbody tr th {\n",
       "        vertical-align: top;\n",
       "    }\n",
       "\n",
       "    .dataframe thead th {\n",
       "        text-align: right;\n",
       "    }\n",
       "</style>\n",
       "<table border=\"1\" class=\"dataframe\">\n",
       "  <thead>\n",
       "    <tr style=\"text-align: right;\">\n",
       "      <th></th>\n",
       "      <th>channelGrouping</th>\n",
       "      <th>date</th>\n",
       "      <th>fullVisitorId</th>\n",
       "      <th>visitId</th>\n",
       "      <th>visitNumber</th>\n",
       "      <th>visitStartTime</th>\n",
       "      <th>device_browser</th>\n",
       "      <th>device_deviceCategory</th>\n",
       "      <th>device_operatingSystem</th>\n",
       "      <th>geoNetwork_city</th>\n",
       "      <th>...</th>\n",
       "      <th>hits_page.searchCategory</th>\n",
       "      <th>hits_page.searchKeyword</th>\n",
       "      <th>hits_promotionActionInfo.promoIsClick</th>\n",
       "      <th>hits_promotionActionInfo.promoIsView</th>\n",
       "      <th>hits_referer</th>\n",
       "      <th>hits_social.hasSocialSourceReferral</th>\n",
       "      <th>hits_social.socialNetwork</th>\n",
       "      <th>hits_transaction.currencyCode</th>\n",
       "      <th>customDimensions_index</th>\n",
       "      <th>customDimensions_value</th>\n",
       "    </tr>\n",
       "  </thead>\n",
       "  <tbody>\n",
       "    <tr>\n",
       "      <th>0</th>\n",
       "      <td>Paid Search</td>\n",
       "      <td>20171016</td>\n",
       "      <td>6135613929977117121</td>\n",
       "      <td>1508166431</td>\n",
       "      <td>10</td>\n",
       "      <td>1508166431</td>\n",
       "      <td>Safari</td>\n",
       "      <td>mobile</td>\n",
       "      <td>iOS</td>\n",
       "      <td>(not set)</td>\n",
       "      <td>...</td>\n",
       "      <td>NaN</td>\n",
       "      <td>NaN</td>\n",
       "      <td>NaN</td>\n",
       "      <td>NaN</td>\n",
       "      <td>https://googleads.g.doubleclick.net/pagead/ads...</td>\n",
       "      <td>No</td>\n",
       "      <td>(not set)</td>\n",
       "      <td>USD</td>\n",
       "      <td>4.0</td>\n",
       "      <td>North America</td>\n",
       "    </tr>\n",
       "    <tr>\n",
       "      <th>1</th>\n",
       "      <td>Organic Search</td>\n",
       "      <td>20171016</td>\n",
       "      <td>579247845938461901</td>\n",
       "      <td>1508165231</td>\n",
       "      <td>1</td>\n",
       "      <td>1508165231</td>\n",
       "      <td>Chrome</td>\n",
       "      <td>desktop</td>\n",
       "      <td>Windows</td>\n",
       "      <td>not available in demo dataset</td>\n",
       "      <td>...</td>\n",
       "      <td>NaN</td>\n",
       "      <td>NaN</td>\n",
       "      <td>NaN</td>\n",
       "      <td>NaN</td>\n",
       "      <td>https://www.google.co.uk/</td>\n",
       "      <td>No</td>\n",
       "      <td>(not set)</td>\n",
       "      <td>USD</td>\n",
       "      <td>4.0</td>\n",
       "      <td>EMEA</td>\n",
       "    </tr>\n",
       "  </tbody>\n",
       "</table>\n",
       "<p>2 rows × 77 columns</p>\n",
       "</div>"
      ],
      "text/plain": [
       "  channelGrouping      date        fullVisitorId     visitId  visitNumber  \\\n",
       "0     Paid Search  20171016  6135613929977117121  1508166431           10   \n",
       "1  Organic Search  20171016   579247845938461901  1508165231            1   \n",
       "\n",
       "   visitStartTime device_browser device_deviceCategory device_operatingSystem  \\\n",
       "0      1508166431         Safari                mobile                    iOS   \n",
       "1      1508165231         Chrome               desktop                Windows   \n",
       "\n",
       "                 geoNetwork_city           ...            \\\n",
       "0                      (not set)           ...             \n",
       "1  not available in demo dataset           ...             \n",
       "\n",
       "  hits_page.searchCategory hits_page.searchKeyword  \\\n",
       "0                      NaN                     NaN   \n",
       "1                      NaN                     NaN   \n",
       "\n",
       "  hits_promotionActionInfo.promoIsClick hits_promotionActionInfo.promoIsView  \\\n",
       "0                                   NaN                                  NaN   \n",
       "1                                   NaN                                  NaN   \n",
       "\n",
       "                                        hits_referer  \\\n",
       "0  https://googleads.g.doubleclick.net/pagead/ads...   \n",
       "1                          https://www.google.co.uk/   \n",
       "\n",
       "  hits_social.hasSocialSourceReferral  hits_social.socialNetwork  \\\n",
       "0                                  No                  (not set)   \n",
       "1                                  No                  (not set)   \n",
       "\n",
       "   hits_transaction.currencyCode  customDimensions_index  \\\n",
       "0                            USD                     4.0   \n",
       "1                            USD                     4.0   \n",
       "\n",
       "   customDimensions_value  \n",
       "0           North America  \n",
       "1                    EMEA  \n",
       "\n",
       "[2 rows x 77 columns]"
      ]
     },
     "execution_count": 2,
     "metadata": {},
     "output_type": "execute_result"
    }
   ],
   "source": [
    "show = pd.read_csv('/home/xc2418/data/sampled_data_cleaned.csv', nrows = 2)\n",
    "show"
   ]
  },
  {
   "cell_type": "code",
   "execution_count": 6,
   "metadata": {},
   "outputs": [
    {
     "name": "stderr",
     "output_type": "stream",
     "text": [
      "/home/xc2418/ENTER/lib/python3.6/site-packages/IPython/core/interactiveshell.py:2728: DtypeWarning: Columns (43,67,68,69) have mixed types. Specify dtype option on import or set low_memory=False.\n",
      "  interactivity=interactivity, compiler=compiler, result=result)\n"
     ]
    }
   ],
   "source": [
    "df = pd.read_csv('/home/xc2418/data/sampled_data_cleaned.csv')"
   ]
  },
  {
   "cell_type": "markdown",
   "metadata": {},
   "source": [
    "#### (1)  Target Vriable -- totals_transactionRevenue"
   ]
  },
  {
   "cell_type": "markdown",
   "metadata": {},
   "source": [
    "Since we need to predict the natural log of each 'fullVisitorId''s total revenue, let's add a column y (y = log(totals_transactionRevenue)) to our dataset."
   ]
  },
  {
   "cell_type": "code",
   "execution_count": 7,
   "metadata": {},
   "outputs": [],
   "source": [
    "# when we log(y), NANs change to 0\n",
    "y = df['totals_transactionRevenue'].fillna(1, inplace = False) \n",
    "df['y'] = np.log(y)"
   ]
  },
  {
   "cell_type": "code",
   "execution_count": 8,
   "metadata": {},
   "outputs": [
    {
     "data": {
      "text/plain": [
       "0.02408"
      ]
     },
     "execution_count": 8,
     "metadata": {},
     "output_type": "execute_result"
    }
   ],
   "source": [
    "# fill NANs with 0 (since NANs means no purchase in our data)\n",
    "df['totals_transactionRevenue'].fillna(0, inplace = True)\n",
    "\n",
    "revenue = df.groupby('fullVisitorId')['totals_transactionRevenue'].sum()\n",
    "r = sum(revenue > 0)/len(revenue)\n",
    "r"
   ]
  },
  {
   "cell_type": "markdown",
   "metadata": {},
   "source": [
    "The propotion of customers who purchased is only 2.4% in our sample."
   ]
  },
  {
   "cell_type": "code",
   "execution_count": 9,
   "metadata": {},
   "outputs": [],
   "source": [
    "df.to_csv(\"/home/xc2418/data/sampled_data_cleaned_1.csv\", header = True, index = False)  "
   ]
  },
  {
   "cell_type": "markdown",
   "metadata": {},
   "source": [
    "#### (2) Explore some important Variables -- Categorical"
   ]
  },
  {
   "cell_type": "markdown",
   "metadata": {},
   "source": [
    "For an important feature, we want to explore its relationship to our target variable('totals_transactionRevenue').\n",
    "In order to show the relationship, we'll define a functions to show 4 plots: <br>\n",
    "    (1) a count of how many times a category show up in a certain feature. <br>\n",
    "    (2) a count of how many times a category show up in a certain feature when revenue > 0. <br>\n",
    "    (3) the total revenue of a category make in a certain feature. <br>\n",
    "    (4) the mean revenue of a category make in a certain feature. "
   ]
  },
  {
   "cell_type": "code",
   "execution_count": 18,
   "metadata": {},
   "outputs": [],
   "source": [
    "def count_all(col, df = df, n_bars = 10):\n",
    "    rev = df['totals_transactionRevenue']\n",
    "    \n",
    "    # 4 values\n",
    "    count = df[col].value_counts(normalize = True)\n",
    "    count_r = df[col].where(rev > 0).value_counts(normalize = True)\n",
    "    total_r = df.groupby(col)['totals_transactionRevenue'].sum()\n",
    "    mean_r = total_r/count_r\n",
    "    \n",
    "    # normalize\n",
    "    total_rev = rev.sum()\n",
    "    total_r = total_r/rev.sum()\n",
    "    \n",
    "    mean_r.fillna(0, inplace = True)\n",
    "    mean_r = mean_r/(mean_r.sum())\n",
    "    \n",
    "    # concat to dataframe\n",
    "    name = ['count', 'count (revenue>0)', 'total', 'mean']\n",
    "    data = pd.concat([count, count_r, total_r, mean_r], axis = 1)\n",
    "    data.columns = name\n",
    "    \n",
    "    data.sort_values(by = 'count', ascending = False, inplace = True)\n",
    "    \n",
    "    data.head(n_bars).plot(kind = 'bar', figsize = (n_bars*4, 10), fontsize = 20)\n",
    "    plt.show()"
   ]
  },
  {
   "cell_type": "markdown",
   "metadata": {},
   "source": [
    "##### (1) device"
   ]
  },
  {
   "cell_type": "code",
   "execution_count": 19,
   "metadata": {},
   "outputs": [
    {
     "name": "stderr",
     "output_type": "stream",
     "text": [
      "/home/xc2418/ENTER/lib/python3.6/site-packages/ipykernel_launcher.py:19: FutureWarning: Sorting because non-concatenation axis is not aligned. A future version\n",
      "of pandas will change to not sort by default.\n",
      "\n",
      "To accept the future behavior, pass 'sort=False'.\n",
      "\n",
      "To retain the current behavior and silence the warning, pass 'sort=True'.\n",
      "\n"
     ]
    },
    {
     "data": {
      "image/png": "[encoded data removed]",
      "text/plain": [
       "<matplotlib.figure.Figure at 0x7f6593904320>"
      ]
     },
     "metadata": {},
     "output_type": "display_data"
    }
   ],
   "source": [
    "# device_browser\n",
    "count_all('device_browser')"
   ]
  },
  {
   "cell_type": "code",
   "execution_count": 12,
   "metadata": {},
   "outputs": [
    {
     "name": "stdout",
     "output_type": "stream",
     "text": [
      "channelGrouping 8\n",
      "date 638\n",
      "fullVisitorId 25000\n",
      "visitId 43698\n",
      "visitNumber 441\n",
      "visitStartTime 43765\n",
      "device_browser 29\n",
      "device_deviceCategory 3\n",
      "device_operatingSystem 15\n",
      "geoNetwork_city 395\n",
      "geoNetwork_continent 6\n",
      "geoNetwork_country 168\n",
      "geoNetwork_metro 69\n",
      "geoNetwork_networkDomain 3362\n",
      "geoNetwork_region 263\n",
      "geoNetwork_subContinent 22\n",
      "totals_bounces 2\n",
      "totals_hits 162\n",
      "totals_newVisits 2\n",
      "totals_pageviews 122\n",
      "totals_sessionQualityDim 100\n",
      "totals_timeOnSite 2147\n",
      "totals_transactionRevenue 633\n",
      "totals_transactions 5\n",
      "trafficSource_adContent 43\n",
      "trafficSource_adwordsClickInfo.adNetworkType 3\n",
      "trafficSource_adwordsClickInfo.gclId 1312\n",
      "trafficSource_adwordsClickInfo.isVideoAd 2\n",
      "trafficSource_adwordsClickInfo.page 5\n",
      "trafficSource_adwordsClickInfo.slot 4\n",
      "trafficSource_isTrueDirect 2\n",
      "trafficSource_keyword 163\n",
      "trafficSource_medium 7\n",
      "trafficSource_referralPath 606\n",
      "trafficSource_source 75\n",
      "hits_appInfo.exitScreenName 618\n",
      "hits_appInfo.landingScreenName 488\n",
      "hits_appInfo.screenName 488\n",
      "hits_contentGroup.contentGroup2 11\n",
      "hits_contentGroup.contentGroupUniqueViews1 2\n",
      "hits_contentGroup.contentGroupUniqueViews2 2\n",
      "hits_contentGroup.contentGroupUniqueViews3 2\n",
      "hits_dataSource 3\n",
      "hits_eCommerceAction.option 3\n",
      "hits_eventInfo.eventAction 7\n",
      "hits_eventInfo.eventCategory 3\n",
      "hits_eventInfo.eventLabel 76\n",
      "hits_hour 25\n",
      "hits_isExit 2\n",
      "hits_item.currencyCode 2\n",
      "hits_latencyTracking.domContentLoadedTime 2\n",
      "hits_latencyTracking.domInteractiveTime 2\n",
      "hits_latencyTracking.domLatencyMetricsSample 2\n",
      "hits_latencyTracking.pageDownloadTime 2\n",
      "hits_latencyTracking.pageLoadSample 2\n",
      "hits_latencyTracking.pageLoadTime 2\n",
      "hits_latencyTracking.redirectionTime 2\n",
      "hits_latencyTracking.serverConnectionTime 2\n",
      "hits_latencyTracking.serverResponseTime 2\n",
      "hits_latencyTracking.speedMetricsSample 2\n",
      "hits_minute 61\n",
      "hits_page.hostname 3\n",
      "hits_page.pagePath 485\n",
      "hits_page.pagePathLevel1 22\n",
      "hits_page.pagePathLevel2 46\n",
      "hits_page.pagePathLevel3 196\n",
      "hits_page.pageTitle 415\n",
      "hits_page.searchCategory 2\n",
      "hits_page.searchKeyword 3\n",
      "hits_promotionActionInfo.promoIsClick 2\n",
      "hits_promotionActionInfo.promoIsView 2\n",
      "hits_referer 1791\n",
      "hits_social.hasSocialSourceReferral 3\n",
      "hits_social.socialNetwork 12\n",
      "hits_transaction.currencyCode 2\n",
      "customDimensions_index 2\n",
      "customDimensions_value 6\n"
     ]
    }
   ],
   "source": [
    "for col in df.columns:\n",
    "    print(col, df[col].unique().size)"
   ]
  },
  {
   "cell_type": "code",
   "execution_count": null,
   "metadata": {},
   "outputs": [],
   "source": []
  }
 ],
 "metadata": {
  "kernelspec": {
   "display_name": "Python 3",
   "language": "python",
   "name": "python3"
  },
  "language_info": {
   "codemirror_mode": {
    "name": "ipython",
    "version": 3
   },
   "file_extension": ".py",
   "mimetype": "text/x-python",
   "name": "python",
   "nbconvert_exporter": "python",
   "pygments_lexer": "ipython3",
   "version": "3.6.4"
  }
 },
 "nbformat": 4,
 "nbformat_minor": 2
}
